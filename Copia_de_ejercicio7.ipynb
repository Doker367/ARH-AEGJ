{
  "nbformat": 4,
  "nbformat_minor": 0,
  "metadata": {
    "colab": {
      "provenance": [],
      "include_colab_link": true
    },
    "kernelspec": {
      "name": "python3",
      "display_name": "Python 3"
    },
    "language_info": {
      "name": "python"
    }
  },
  "cells": [
    {
      "cell_type": "markdown",
      "metadata": {
        "id": "view-in-github",
        "colab_type": "text"
      },
      "source": [
        "<a href=\"https://colab.research.google.com/github/Doker367/ARH-AEGJ/blob/main/Copia_de_ejercicio7.ipynb\" target=\"_parent\"><img src=\"https://colab.research.google.com/assets/colab-badge.svg\" alt=\"Open In Colab\"/></a>"
      ]
    },
    {
      "cell_type": "markdown",
      "source": [
        "# Autómata Finito Determinista (AFD) - Verificador de números pares"
      ],
      "metadata": {
        "id": "jtzKlQ-x0RVx"
      }
    },
    {
      "cell_type": "code",
      "execution_count": null,
      "metadata": {
        "id": "Q-op0hiY0GRv",
        "colab": {
          "base_uri": "https://localhost:8080/"
        },
        "outputId": "4e2d5c31-34a0-4241-d8a2-f62854a369fc"
      },
      "outputs": [
        {
          "output_type": "stream",
          "name": "stdout",
          "text": [
            "True\n",
            "False\n"
          ]
        }
      ],
      "source": [
        "class AFD:\n",
        "    def __init__(self):\n",
        "        self.estados = {'q0', 'q1'}\n",
        "        self.alfabeto = {'0', '1'}\n",
        "        self.estado_inicial = 'q0'\n",
        "        self.estados_finales = {'q0'}\n",
        "        self.transiciones = {\n",
        "            'q0': {'0': 'q0', '1': 'q1'},\n",
        "            'q1': {'0': 'q1', '1': 'q0'}\n",
        "        }\n",
        "\n",
        "    def procesar(self, cadena):\n",
        "        estado_actual = self.estado_inicial\n",
        "\n",
        "        for simbolo in cadena:\n",
        "            if simbolo not in self.alfabeto:\n",
        "                return False\n",
        "            estado_actual = self.transiciones[estado_actual][simbolo]\n",
        "\n",
        "        return estado_actual in self.estados_finales\n",
        "\n",
        "# Ejemplo de uso\n",
        "automata = AFD()\n",
        "print(automata.procesar(\"1100\"))  # True (10 en binario = 2, par)\n",
        "print(automata.procesar(\"1011\"))  # False (11 en binario = 3, impar)"
      ]
    },
    {
      "cell_type": "markdown",
      "source": [
        "## Autómata finito No Determinista"
      ],
      "metadata": {
        "id": "uW8Wb3Iz0jfR"
      }
    },
    {
      "cell_type": "code",
      "source": [
        "class AFN:\n",
        "    def __init__(self):\n",
        "        self.estados = {'q0', 'q1', 'q2'}\n",
        "        self.alfabeto = {'a', 'b'}\n",
        "        self.estado_inicial = 'q0'\n",
        "        self.estados_finales = {'q2'}\n",
        "        self.transiciones = {\n",
        "            'q0': {'a': {'q0', 'q1'}, 'b': {'q0'}},\n",
        "            'q1': {'b': {'q2'}},\n",
        "            'q2': {}\n",
        "        }\n",
        "\n",
        "    def procesar(self, cadena):\n",
        "        estados_actuales = {self.estado_inicial}\n",
        "\n",
        "        for simbolo in cadena:\n",
        "            if simbolo not in self.alfabeto:\n",
        "                return False\n",
        "\n",
        "            nuevos_estados = set()\n",
        "            for estado in estados_actuales:\n",
        "                if simbolo in self.transiciones[estado]:\n",
        "                    nuevos_estados.update(self.transiciones[estado][simbolo])\n",
        "\n",
        "            estados_actuales = nuevos_estados\n",
        "            if not estados_actuales:\n",
        "                return False\n",
        "        return any(estado in self.estados_finales for estado in estados_actuales)\n",
        "\n",
        "# Ejemplo de uso\n",
        "automata = AFN()\n",
        "print(automata.procesar(\"aab\"))  # True (termina con 'ab')\n",
        "print(automata.procesar(\"abb\"))  # False\n",
        "print(automata.procesar(\"ababab\")) # True"
      ],
      "metadata": {
        "id": "8u4zVIUi0ntC",
        "colab": {
          "base_uri": "https://localhost:8080/"
        },
        "outputId": "08a71c32-b243-4035-a3e1-fb64801d3ee7"
      },
      "execution_count": null,
      "outputs": [
        {
          "output_type": "stream",
          "name": "stdout",
          "text": [
            "True\n",
            "False\n",
            "True\n"
          ]
        }
      ]
    },
    {
      "cell_type": "markdown",
      "source": [
        "## Autómata para validar emails simples"
      ],
      "metadata": {
        "id": "OH6TkpAF0sWv"
      }
    },
    {
      "cell_type": "code",
      "source": [
        "class AutomataEmail:\n",
        "    def __init__(self):\n",
        "        self.estados = {'q0', 'q1', 'q2', 'q3', 'q4'}\n",
        "        self.alfabeto = set(\"abcdefghijklmnopqrstuvwxyz0123456789@.\")\n",
        "        self.estado_inicial = 'q0'\n",
        "        self.estados_finales = {'q4'}\n",
        "        self.transiciones = {\n",
        "            'q0': {c: 'q1' for c in \"abcdefghijklmnopqrstuvwxyz0123456789\"},\n",
        "            'q1': {c: 'q1' for c in \"abcdefghijklmnopqrstuvwxyz0123456789\"},\n",
        "            'q1': {'@': 'q2', **{c: 'q1' for c in \"abcdefghijklmnopqrstuvwxyz0123456789\"}},\n",
        "            'q2': {c: 'q3' for c in \"abcdefghijklmnopqrstuvwxyz0123456789\"},\n",
        "            'q3': {c: 'q3' for c in \"abcdefghijklmnopqrstuvwxyz0123456789\"},\n",
        "            'q3': {'.': 'q4'},\n",
        "            'q4': {c: 'q4' for c in \"abcdefghijklmnopqrstuvwxyz0123456789\"}\n",
        "        }\n",
        "\n",
        "    def procesar(self, cadena):\n",
        "        estado_actual = self.estado_inicial\n",
        "\n",
        "        for simbolo in cadena.lower():\n",
        "            if simbolo not in self.alfabeto:\n",
        "                return False\n",
        "\n",
        "            if simbolo in self.transiciones[estado_actual]:\n",
        "                estado_actual = self.transiciones[estado_actual][simbolo]\n",
        "            else:\n",
        "                return False\n",
        "\n",
        "        return estado_actual in self.estados_finales\n",
        "\n",
        "# Ejemplo de uso\n",
        "automata = AutomataEmail()\n",
        "print(automata.procesar(\"usuario@dominio.com\"))  # True\n",
        "print(automata.procesar(\"usuario@\"))            # False\n",
        "print(automata.procesar(\"usuario@.\"))\n",
        "print(automata.procesar(\"usuario@dominio.com\"))"
      ],
      "metadata": {
        "id": "3bNzvuGW0vZT",
        "colab": {
          "base_uri": "https://localhost:8080/"
        },
        "outputId": "f34da270-9b63-4f5c-d98e-ac71bae1290a"
      },
      "execution_count": null,
      "outputs": [
        {
          "output_type": "stream",
          "name": "stdout",
          "text": [
            "False\n",
            "False\n",
            "False\n",
            "False\n"
          ]
        }
      ]
    },
    {
      "cell_type": "markdown",
      "source": [
        "## Implementación genérica de AFD"
      ],
      "metadata": {
        "id": "EVFC1GW601K1"
      }
    },
    {
      "cell_type": "code",
      "source": [
        "class AutomataFinito:\n",
        "    def __init__(self, estados, alfabeto, transiciones, estado_inicial, estados_finales):\n",
        "        self.estados = estados\n",
        "        self.alfabeto = alfabeto\n",
        "        self.transiciones = transiciones\n",
        "        self.estado_inicial = estado_inicial\n",
        "        self.estados_finales = estados_finales\n",
        "\n",
        "    def validar_cadena(self, cadena):\n",
        "        estado_actual = self.estado_inicial\n",
        "\n",
        "        for simbolo in cadena:\n",
        "            if simbolo not in self.alfabeto:\n",
        "                return False, f\"Símbolo '{simbolo}' no está en el alfabeto\"\n",
        "\n",
        "            if estado_actual not in self.transiciones or simbolo not in self.transiciones[estado_actual]:\n",
        "                return False, f\"No hay transición definida desde {estado_actual} con {simbolo}\"\n",
        "\n",
        "            estado_actual = self.transiciones[estado_actual][simbolo]\n",
        "\n",
        "        return estado_actual in self.estados_finales, estado_actual\n",
        "\n",
        "# Ejemplo: Autómata que acepta cadenas con número par de 'a's\n",
        "estados = {'q0', 'q1'}\n",
        "alfabeto = {'a', 'b'}\n",
        "transiciones = {\n",
        "    'q0': {'a': 'q1', 'b': 'q0'},\n",
        "    'q1': {'a': 'q0', 'b': 'q1'}\n",
        "}\n",
        "estado_inicial = 'q0'\n",
        "estados_finales = {'q0'}\n",
        "\n",
        "automata = AutomataFinito(estados, alfabeto, transiciones, estado_inicial, estados_finales)\n",
        "\n",
        "# Probar el autómata\n",
        "test_cases = [\"ababa\", \"aaa\", \"bbbb\", \"aabaa\"]\n",
        "for test in test_cases:\n",
        "    resultado, estado = automata.validar_cadena(test)\n",
        "    print(f\"'{test}': {resultado} (estado final: {estado})\")"
      ],
      "metadata": {
        "id": "b0Bqha7W02Zh"
      },
      "execution_count": null,
      "outputs": []
    }
  ]
}